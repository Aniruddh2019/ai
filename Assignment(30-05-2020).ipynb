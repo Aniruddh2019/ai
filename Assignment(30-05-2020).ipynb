{
 "cells": [
  {
   "cell_type": "markdown",
   "metadata": {},
   "source": [
    "# CSE-221710308021-Aniruddh"
   ]
  },
  {
   "cell_type": "code",
   "execution_count": 31,
   "metadata": {},
   "outputs": [
    {
     "name": "stdout",
     "output_type": "stream",
     "text": [
      " No of Lines: 1\n",
      "No. of Words: 8\n",
      "No. of characters: 75\n"
     ]
    }
   ],
   "source": [
    "#1\n",
    "\n",
    "f=open(\"test.txt\",\"w\")\n",
    "f.write(\"python is an interpreted, high-level, general-purpose programming language.\")\n",
    "f.close()\n",
    "\n",
    "#count no. of lines\n",
    "f=open(\"test.txt\",\"r\")\n",
    "cnt=0\n",
    "content=f.read()\n",
    "l=content.split(\"\\n\")\n",
    "for i in l:\n",
    "    cnt+=1\n",
    "print(\" No of Lines:\",cnt)\n",
    "#count no. of lines\n",
    "\n",
    "#count no. of words\n",
    "num_words = 0 \n",
    "with open('test.txt', 'r') as f:\n",
    "    for line in f:\n",
    "        words = line.split()\n",
    "        num_words += len(words)\n",
    "print(\"No. of Words:\",num_words)\n",
    "#count no. of words\n",
    "\n",
    "#count no. of characters\n",
    "f= open(\"test.txt\",\"r\")\n",
    "data=f.read()\n",
    "number_of_characters = len(data)\n",
    "print('No. of characters:', number_of_characters)\n",
    "#count no. of characters"
   ]
  },
  {
   "cell_type": "code",
   "execution_count": 1,
   "metadata": {},
   "outputs": [],
   "source": [
    "#2\n",
    "\n",
    "with open(\"test.txt\") as f:\n",
    "    with open(\"cap.txt\", \"w\") as f1:\n",
    "        for line in f:\n",
    "            f1.write(line)"
   ]
  },
  {
   "cell_type": "code",
   "execution_count": 2,
   "metadata": {},
   "outputs": [
    {
     "name": "stdout",
     "output_type": "stream",
     "text": [
      "python is an interpreted, high-level, general-purpose programming language.\n"
     ]
    }
   ],
   "source": [
    "f=open(\"cap.txt\",\"r\")\n",
    "data=f.read()\n",
    "print(data)\n",
    "f.close()"
   ]
  },
  {
   "cell_type": "code",
   "execution_count": 32,
   "metadata": {},
   "outputs": [
    {
     "name": "stdout",
     "output_type": "stream",
     "text": [
      "Words: 8\n",
      "python is the word starts with the letter p \n",
      "programming is the word starts with the letter p \n"
     ]
    }
   ],
   "source": [
    "#3\n",
    "\n",
    "wordsFile = open(\"test.txt\", 'r')\n",
    "words = wordsFile.read()\n",
    "wordsFile.close()\n",
    "wordList = words.split()\n",
    "print(\"Words:\",len(wordList))\n",
    "a_words = 0\n",
    "for a_words in wordList:\n",
    "    if a_words[0]=='p':\n",
    "        print(a_words, \"is the word starts with the letter p \")"
   ]
  },
  {
   "cell_type": "code",
   "execution_count": 35,
   "metadata": {},
   "outputs": [],
   "source": [
    "#4\n",
    "\n",
    "import os\n",
    "os.rename(\"Data.txt\",\"renamedfile.txt\")"
   ]
  },
  {
   "cell_type": "code",
   "execution_count": null,
   "metadata": {},
   "outputs": [],
   "source": [
    "#5\n",
    "\n"
   ]
  }
 ],
 "metadata": {
  "kernelspec": {
   "display_name": "Python 3",
   "language": "python",
   "name": "python3"
  },
  "language_info": {
   "codemirror_mode": {
    "name": "ipython",
    "version": 3
   },
   "file_extension": ".py",
   "mimetype": "text/x-python",
   "name": "python",
   "nbconvert_exporter": "python",
   "pygments_lexer": "ipython3",
   "version": "3.8.0"
  }
 },
 "nbformat": 4,
 "nbformat_minor": 4
}
