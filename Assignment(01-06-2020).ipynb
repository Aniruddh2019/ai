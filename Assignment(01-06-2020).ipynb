{
 "cells": [
  {
   "cell_type": "markdown",
   "metadata": {},
   "source": [
    "# CSE-221710308021-Aniruddh"
   ]
  },
  {
   "cell_type": "code",
   "execution_count": 3,
   "metadata": {},
   "outputs": [
    {
     "name": "stdout",
     "output_type": "stream",
     "text": [
      "enter no of passwords10\n",
      "DoMonkey41@\n",
      "TypeRing7#\n",
      "StandBell75*\n",
      "StandBaby18(\n",
      "JumpBell54!\n",
      "GoCity90%\n",
      "GoMonkey5&\n",
      "DoRing67(\n",
      "ThinkRing26*\n",
      "RunCity98&\n"
     ]
    }
   ],
   "source": [
    "import random\n",
    "random.randint(1,100)\n",
    "verb=[\"Slide\",\"Jump\",\"Do\",\"Go\",\"Run\",\"Stand\",\"Think\",\"Walk\",\"Type\"]\n",
    "random.choice(verb)\n",
    "name=[\"Monkey\", \"Baby\", \"Door\", \"Bell\", \"Family\", \"Ring\", \"City\"]\n",
    "random.choice(name)\n",
    "import string\n",
    "string.punctuation\n",
    "punc=[\"!\",\"@\",\"#\",\"$\",\"%\",\"&\",\"*\",\"(\",\")\"]\n",
    "punc\n",
    "\n",
    "n=int(input(\"enter no of passwords\"))\n",
    "for i in range(1,n+1):\n",
    "  listofpass=[]\n",
    "  listofpass.append(random.choice(verb))\n",
    "  listofpass.append(random.choice(name))\n",
    "  listofpass.append(random.randint(1,100))\n",
    "  listofpass.append(random.choice(punc))\n",
    "  listToStr = ''.join([str(elem) for elem in listofpass])\n",
    "  print(listToStr)\n"
   ]
  },
  {
   "cell_type": "code",
   "execution_count": null,
   "metadata": {},
   "outputs": [],
   "source": []
  },
  {
   "cell_type": "code",
   "execution_count": null,
   "metadata": {},
   "outputs": [],
   "source": []
  }
 ],
 "metadata": {
  "kernelspec": {
   "display_name": "Python 3",
   "language": "python",
   "name": "python3"
  },
  "language_info": {
   "codemirror_mode": {
    "name": "ipython",
    "version": 3
   },
   "file_extension": ".py",
   "mimetype": "text/x-python",
   "name": "python",
   "nbconvert_exporter": "python",
   "pygments_lexer": "ipython3",
   "version": "3.8.0"
  }
 },
 "nbformat": 4,
 "nbformat_minor": 4
}
