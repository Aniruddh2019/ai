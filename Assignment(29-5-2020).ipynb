{
 "cells": [
  {
   "cell_type": "markdown",
   "metadata": {},
   "source": [
    "# CSE-221710308021-Aniruddh"
   ]
  },
  {
   "cell_type": "code",
   "execution_count": 5,
   "metadata": {},
   "outputs": [
    {
     "name": "stdout",
     "output_type": "stream",
     "text": [
      "Enter a number : 5\n",
      "120\n"
     ]
    }
   ],
   "source": [
    "#1\n",
    "\n",
    "def factorial(n):\n",
    "    if n == 0:\n",
    "        return 1\n",
    "    else:\n",
    "        return n * factorial(n-1)\n",
    "n=int(input(\"Enter a number : \"))\n",
    "print(factorial(n))"
   ]
  },
  {
   "cell_type": "code",
   "execution_count": 11,
   "metadata": {},
   "outputs": [
    {
     "name": "stdout",
     "output_type": "stream",
     "text": [
      "Enter the range10\n",
      "Fibonacci series is:\n",
      "0\n",
      "1\n",
      "1\n",
      "2\n",
      "3\n",
      "5\n",
      "8\n",
      "13\n",
      "21\n",
      "34\n"
     ]
    }
   ],
   "source": [
    "#2\n",
    "\n",
    "def fibo(n):\n",
    "   if n <= 1:\n",
    "       return n\n",
    "   else:\n",
    "       return(fibo(n-1) + fibo(n-2))\n",
    "nterms = int(input(\"Enter the range\"))\n",
    "if nterms <= 0:\n",
    "   print(\"enter a number\")\n",
    "else:\n",
    "   print(\"Fibonacci series is:\")\n",
    "   for i in range(nterms):\n",
    "       print(fibo(i))"
   ]
  },
  {
   "cell_type": "code",
   "execution_count": 14,
   "metadata": {},
   "outputs": [
    {
     "name": "stdout",
     "output_type": "stream",
     "text": [
      "Sum is  15\n"
     ]
    }
   ],
   "source": [
    "#3\n",
    "total=0\n",
    "\n",
    "list1 = [1,2,3,4,5]   \n",
    "for ele in range(0, len(list1)): \n",
    "    total = total + list1[ele] \n",
    "print(\"Sum is \", total) \n"
   ]
  },
  {
   "cell_type": "code",
   "execution_count": 17,
   "metadata": {},
   "outputs": [
    {
     "name": "stdout",
     "output_type": "stream",
     "text": [
      "2 4 "
     ]
    }
   ],
   "source": [
    "# 4\n",
    "\n",
    "list1 = [1,2,3,4,5]  \n",
    "for  even in list1:  \n",
    "    if even % 2 == 0: \n",
    "       print(even, end = \" \") "
   ]
  },
  {
   "cell_type": "code",
   "execution_count": 25,
   "metadata": {},
   "outputs": [
    {
     "name": "stdout",
     "output_type": "stream",
     "text": [
      "Smallest no. is: [2]\n",
      "(0, 2)\n",
      "(1, 3)\n",
      "(2, 4)\n",
      "(3, 5)\n",
      "(4, 7)\n"
     ]
    }
   ],
   "source": [
    "#5 \n",
    "\n",
    "list1 = [7,2,3,4,5]  \n",
    "list1.sort()  \n",
    "print(\"Smallest no. is:\", list1[:1]) \n",
    "for index in enumerate(list1):\n",
    "    print(index)"
   ]
  },
  {
   "cell_type": "code",
   "execution_count": 28,
   "metadata": {},
   "outputs": [
    {
     "name": "stdout",
     "output_type": "stream",
     "text": [
      "Enter the stringlevel\n",
      "Yes\n"
     ]
    }
   ],
   "source": [
    "#6\n",
    "\n",
    "def Palindrome(str): \n",
    "    return str == str[::-1] \n",
    "  \n",
    "  \n",
    "str = input(\"Enter the string\")\n",
    "ans = Palindrome(str) \n",
    "  \n",
    "if ans: \n",
    "    print(\"Yes\") \n",
    "else: \n",
    "    print(\"No\")"
   ]
  },
  {
   "cell_type": "code",
   "execution_count": 29,
   "metadata": {},
   "outputs": [
    {
     "name": "stdout",
     "output_type": "stream",
     "text": [
      "Even numbers 4\n",
      "Odd numbers 5\n"
     ]
    }
   ],
   "source": [
    "#7\n",
    "\n",
    "list1 = [1,2,3,4,5,6,7,8,9] \n",
    "  \n",
    "ecnt,ocnt = 0,0 \n",
    "for num in list1:  \n",
    "    if num % 2 == 0: \n",
    "        ecnt += 1\n",
    "    else: \n",
    "        ocnt += 1\n",
    "print(\"Even numbers\",ecnt) \n",
    "print(\"Odd numbers\",ocnt) \n"
   ]
  },
  {
   "cell_type": "code",
   "execution_count": 30,
   "metadata": {},
   "outputs": [
    {
     "name": "stdout",
     "output_type": "stream",
     "text": [
      "0 1 2 4 5 \n",
      "\n"
     ]
    }
   ],
   "source": [
    "#8\n",
    "\n",
    "for i in range(6):\n",
    "    if (i== 3 or i==6):\n",
    "        continue\n",
    "    print(i,end=' ')\n",
    "print(\"\\n\")"
   ]
  },
  {
   "cell_type": "code",
   "execution_count": 1,
   "metadata": {},
   "outputs": [
    {
     "name": "stdout",
     "output_type": "stream",
     "text": [
      "Enter a number3\n",
      "3 is a prime no.\n"
     ]
    }
   ],
   "source": [
    "#9\n",
    "\n",
    "num= int(input(\"Enter a number\"))\n",
    "if num>1:\n",
    "    for i in range(2,num):\n",
    "        if (num%i)==0:\n",
    "            print(num, \"is not a prime no.\")\n",
    "            break\n",
    "    else:\n",
    "        print(num, \"is a prime no.\")\n",
    "else:\n",
    "    print(num, \"is not a prime no.\")"
   ]
  },
  {
   "cell_type": "code",
   "execution_count": 4,
   "metadata": {},
   "outputs": [
    {
     "name": "stdout",
     "output_type": "stream",
     "text": [
      "Enter the number: 121\n",
      "121 is an Adam Number.\n"
     ]
    }
   ],
   "source": [
    "#10\n",
    "\n",
    "\n",
    "def Adam(num):\n",
    "    n = num\n",
    "    rev = 0\n",
    "    while n != 0:\n",
    "        rev = rev * 10 + n % 10\n",
    "        n = n // 10\n",
    "    sn = num ** 2\n",
    "    sr = rev ** 2\n",
    "    n = sr\n",
    "    rev = 0\n",
    "    while n != 0:\n",
    "        rev = rev * 10 + n % 10\n",
    "        n = n // 10\n",
    "    return sn == rev\n",
    "\n",
    "num = int(input(\"Enter the number: \"))\n",
    "if Adam(num):\n",
    "    print(str(num) + \" is an Adam Number.\")\n",
    "else:\n",
    "    print(str(num) + \" is not an Adam Number.\")"
   ]
  },
  {
   "cell_type": "code",
   "execution_count": null,
   "metadata": {},
   "outputs": [],
   "source": []
  }
 ],
 "metadata": {
  "kernelspec": {
   "display_name": "Python 3",
   "language": "python",
   "name": "python3"
  },
  "language_info": {
   "codemirror_mode": {
    "name": "ipython",
    "version": 3
   },
   "file_extension": ".py",
   "mimetype": "text/x-python",
   "name": "python",
   "nbconvert_exporter": "python",
   "pygments_lexer": "ipython3",
   "version": "3.8.0"
  }
 },
 "nbformat": 4,
 "nbformat_minor": 4
}
