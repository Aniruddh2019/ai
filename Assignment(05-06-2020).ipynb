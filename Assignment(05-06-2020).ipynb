{
 "cells": [
  {
   "cell_type": "markdown",
   "metadata": {},
   "source": [
    "# CSE-221710308021-Aniruddh"
   ]
  },
  {
   "cell_type": "code",
   "execution_count": 3,
   "metadata": {},
   "outputs": [
    {
     "name": "stdout",
     "output_type": "stream",
     "text": [
      "adding\n",
      "0     3\n",
      "1     7\n",
      "2    11\n",
      "3    15\n",
      "4    19\n",
      "dtype: int64\n",
      "subtracting\n",
      "0    1\n",
      "1    1\n",
      "2    1\n",
      "3    1\n",
      "4    1\n",
      "dtype: int64\n",
      "Multiplying\n",
      "0     2\n",
      "1    12\n",
      "2    30\n",
      "3    56\n",
      "4    90\n",
      "dtype: int64\n",
      "Dividing\n",
      "0    2.000000\n",
      "1    1.333333\n",
      "2    1.200000\n",
      "3    1.142857\n",
      "4    1.111111\n",
      "dtype: float64\n"
     ]
    }
   ],
   "source": [
    "#1\n",
    "\n",
    "import pandas as pd\n",
    "s1=pd.Series([2, 4, 6, 8, 10])\n",
    "s2=pd.Series([1, 3, 5, 7, 9])\n",
    "s3=s1+s2\n",
    "print(\"adding\")\n",
    "print(s3)\n",
    "print(\"subtracting\")\n",
    "s3=s1-s2\n",
    "print(s3)\n",
    "print(\"Multiplying\")\n",
    "s3=s1*s2\n",
    "print(s3)\n",
    "print(\"Dividing\")\n",
    "s3=s1/s2\n",
    "print(s3)"
   ]
  },
  {
   "cell_type": "code",
   "execution_count": 7,
   "metadata": {},
   "outputs": [
    {
     "name": "stdout",
     "output_type": "stream",
     "text": [
      "Original Series:\n",
      "0      3.000938\n",
      "1     11.370722\n",
      "2     14.612143\n",
      "3      8.990256\n",
      "4     13.925283\n",
      "5     12.056875\n",
      "6     10.884719\n",
      "7      5.719827\n",
      "8      9.242017\n",
      "9     11.020006\n",
      "10     8.167892\n",
      "11    11.740654\n",
      "12     7.665620\n",
      "13    13.267388\n",
      "14    12.690883\n",
      "15     9.582355\n",
      "16     7.874878\n",
      "17    14.118931\n",
      "18     8.247458\n",
      "19     5.526727\n",
      "dtype: float64\n",
      "\n",
      "Minimum, 25th percentile, median, 75th, and maximum of a given series:\n",
      "[ 3.00093811  8.09463867 10.23353705 12.21537733 14.61214321]\n"
     ]
    }
   ],
   "source": [
    "#2\n",
    "\n",
    "import pandas as pd\n",
    "import numpy as np\n",
    "num_state = np.random.RandomState(100)\n",
    "num_series = pd.Series(num_state.normal(10, 4, 20))\n",
    "print(\"Original Series:\")\n",
    "print(num_series)\n",
    "res=np.percentile(num_series, q=[0, 25, 50, 75, 100])\n",
    "print(\"\\nMinimum, 25th percentile, median, 75th, and maximum of a given series:\")\n",
    "print(res)\n"
   ]
  },
  {
   "cell_type": "code",
   "execution_count": 14,
   "metadata": {},
   "outputs": [
    {
     "name": "stdout",
     "output_type": "stream",
     "text": [
      "0    1\n",
      "2    3\n",
      "4    5\n",
      "dtype: int64\n"
     ]
    }
   ],
   "source": [
    "#3\n",
    "\n",
    "import pandas as pd\n",
    "sr1=pd.Series([1, 2, 3, 4, 5])\n",
    "sr2=pd.Series([2, 4, 6, 8, 10])\n",
    "res=sr1[~sr1.isin(sr2)]\n",
    "print(res)\n"
   ]
  },
  {
   "cell_type": "code",
   "execution_count": 4,
   "metadata": {},
   "outputs": [
    {
     "name": "stdout",
     "output_type": "stream",
     "text": [
      "1     Green\n",
      "2    Orange\n",
      "4    Yellow\n",
      "5     White\n",
      "dtype: object\n"
     ]
    }
   ],
   "source": [
    "#4\n",
    "\n",
    "import pandas as pd\n",
    "from collections import Counter\n",
    "colors=pd.Series(['Red','Green','Orange','Pink','Yellow','White'])\n",
    "result = mask = colors.map(lambda c: sum([Counter(c.lower()).get(i, 0) for i in list('aeiou')]) >= 2)\n",
    "print(colors[result])\n"
   ]
  },
  {
   "cell_type": "code",
   "execution_count": 17,
   "metadata": {},
   "outputs": [
    {
     "name": "stdout",
     "output_type": "stream",
     "text": [
      "    name  score  attempts qualify\n",
      "j  Jonas   19.0         1     yes\n"
     ]
    }
   ],
   "source": [
    "#5\n",
    "\n",
    "import pandas as pd\n",
    "import numpy as np\n",
    "t={'name':['Anastasia','Dima','Katherine','James','Emily','Michael','Matthew','Laura','Kevin','Jonas'],\n",
    "    'score':[12.5,9,16.5,np.nan,9,20,14.5,np.nan,8,19],\n",
    "    'attempts':[1,3,2,3,2,3,1,1,2,1],\n",
    "    'qualify':['yes','no','yes','no','no','yes','yes','no','no','yes']}\n",
    "label=['a','b','c','d','e','f','g','h','i','j']\n",
    "df=pd.DataFrame(t,index=label)\n",
    "print(df[(df['attempts']<2)&(df['score']>15)])\n"
   ]
  },
  {
   "cell_type": "code",
   "execution_count": null,
   "metadata": {},
   "outputs": [],
   "source": []
  }
 ],
 "metadata": {
  "kernelspec": {
   "display_name": "Python 3",
   "language": "python",
   "name": "python3"
  },
  "language_info": {
   "codemirror_mode": {
    "name": "ipython",
    "version": 3
   },
   "file_extension": ".py",
   "mimetype": "text/x-python",
   "name": "python",
   "nbconvert_exporter": "python",
   "pygments_lexer": "ipython3",
   "version": "3.8.0"
  }
 },
 "nbformat": 4,
 "nbformat_minor": 4
}
