{
 "cells": [
  {
   "cell_type": "markdown",
   "metadata": {},
   "source": [
    "# CSE-221710308021-Aniruddh\n"
   ]
  },
  {
   "cell_type": "code",
   "execution_count": 5,
   "metadata": {},
   "outputs": [
    {
     "name": "stdout",
     "output_type": "stream",
     "text": [
      "1 .  python is an interpreted.\n",
      "\n",
      "2 .  high-level, general-purpose programming language.\n"
     ]
    }
   ],
   "source": [
    "#2 \n",
    "with open(\"test.txt\",\"r\") as f:\n",
    "    i=1\n",
    "    for line in f:\n",
    "        print(i,\". \",line)\n",
    "        i+=1"
   ]
  },
  {
   "cell_type": "code",
   "execution_count": 6,
   "metadata": {},
   "outputs": [],
   "source": [
    "#1\n",
    "with open(\"test.txt\",\"r\") as f:\n",
    "    with open(\"test.txt\",\"w\") as f1:     \n",
    "        for line in f:\n",
    "            f1.write(line)"
   ]
  },
  {
   "cell_type": "code",
   "execution_count": 7,
   "metadata": {},
   "outputs": [],
   "source": [
    " with open(\"test.txt\",\"r\") as f1:\n",
    "        for line in f1:                    \n",
    "            print(line[::-1])"
   ]
  },
  {
   "cell_type": "code",
   "execution_count": 19,
   "metadata": {},
   "outputs": [
    {
     "name": "stdout",
     "output_type": "stream",
     "text": [
      "True\n",
      "[1, 2, 3, 4]\n"
     ]
    }
   ],
   "source": [
    "# 3\n",
    "def duplicate(j):\n",
    "    for i in j:\n",
    "        if(j.count(i)>1):\n",
    "            return True\n",
    "            break\n",
    "        else:\n",
    "            continue\n",
    "    return False\n",
    "def rem(f):\n",
    "    for i in j:\n",
    "        if i not in li:\n",
    "            li.append(i)\n",
    "    return li\n",
    "j = [1,2,3,4,4]\n",
    "li= []\n",
    "f = (duplicate(j))\n",
    "print(f)\n",
    "if(f == True):\n",
    "    print(rem(j))"
   ]
  },
  {
   "cell_type": "code",
   "execution_count": 17,
   "metadata": {},
   "outputs": [
    {
     "name": "stdout",
     "output_type": "stream",
     "text": [
      "True\n"
     ]
    }
   ],
   "source": [
    "#5\n",
    "\n",
    "def permutation(list1,list2):\n",
    "    sum1 = sum(list1)\n",
    "    sum2 = sum(list2)\n",
    "    if sum1 == sum2:\n",
    "        return True\n",
    "    else:\n",
    "        return False\n",
    "list1 = [1,2,2]\n",
    "list2 = [2,1,2]\n",
    "print(permutation(list1,list2))"
   ]
  },
  {
   "cell_type": "code",
   "execution_count": null,
   "metadata": {},
   "outputs": [],
   "source": []
  }
 ],
 "metadata": {
  "kernelspec": {
   "display_name": "Python 3",
   "language": "python",
   "name": "python3"
  },
  "language_info": {
   "codemirror_mode": {
    "name": "ipython",
    "version": 3
   },
   "file_extension": ".py",
   "mimetype": "text/x-python",
   "name": "python",
   "nbconvert_exporter": "python",
   "pygments_lexer": "ipython3",
   "version": "3.8.0"
  }
 },
 "nbformat": 4,
 "nbformat_minor": 4
}
