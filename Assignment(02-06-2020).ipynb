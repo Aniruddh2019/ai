{
 "cells": [
  {
   "cell_type": "markdown",
   "metadata": {},
   "source": [
    "# CSE-221710308021-Aniruddh"
   ]
  },
  {
   "cell_type": "code",
   "execution_count": 17,
   "metadata": {},
   "outputs": [
    {
     "name": "stdout",
     "output_type": "stream",
     "text": [
      "['?', '?', '?', '?', '?']\n",
      "lives left: 9\n",
      "Guess a letter or total wordotter\n",
      "You loose a life\n",
      "['?', '?', '?', '?', '?']\n",
      "lives left: 8\n",
      "Guess a letter or total wordshirt\n",
      "You won the secret word is:shirt\n"
     ]
    }
   ],
   "source": [
    "import random\n",
    "lives=9\n",
    "words=[\"pizza\",\"fairy\",\"teeth\",\"shirt\",\"otter\",\"plane\",'brush','horse',\"light\"]\n",
    "secret_word=random.choice(words)\n",
    "clue=list(\"?????\")\n",
    "guessed_word_correctly=False\n",
    "def update_clue(guessed_letter,secret_word,clue):\n",
    "    index=0\n",
    "    while index<len(secret_word):\n",
    "        if guessed_letter==secret_word[index]:\n",
    "            clue[index]=guessed_letter\n",
    "            index=index+1\n",
    "    \n",
    "while lives>0:\n",
    "    print(clue)\n",
    "    print('lives left:',lives)\n",
    "    guess=input('Guess a letter or total word')\n",
    "    if guess== secret_word:\n",
    "        guessed_word_correctly=True\n",
    "        break\n",
    "    if guess in secret_word:\n",
    "        update_clue(guess,secret_word,clue)\n",
    "    else:\n",
    "        print('You loose a life')\n",
    "        lives=lives-1\n",
    "if guessed_word_correctly:\n",
    "    print(\"You won the secret word is:\"+secret_word)\n",
    "else:\n",
    "    print(\"You lost the secret word is:\"+secret_word)"
   ]
  },
  {
   "cell_type": "code",
   "execution_count": null,
   "metadata": {},
   "outputs": [],
   "source": []
  }
 ],
 "metadata": {
  "kernelspec": {
   "display_name": "Python 3",
   "language": "python",
   "name": "python3"
  },
  "language_info": {
   "codemirror_mode": {
    "name": "ipython",
    "version": 3
   },
   "file_extension": ".py",
   "mimetype": "text/x-python",
   "name": "python",
   "nbconvert_exporter": "python",
   "pygments_lexer": "ipython3",
   "version": "3.8.0"
  }
 },
 "nbformat": 4,
 "nbformat_minor": 4
}
