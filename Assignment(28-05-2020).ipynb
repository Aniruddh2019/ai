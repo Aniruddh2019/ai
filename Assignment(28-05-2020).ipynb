{
 "cells": [
  {
   "cell_type": "markdown",
   "metadata": {},
   "source": [
    "# CSE-221710308021-Aniruddh"
   ]
  },
  {
   "cell_type": "code",
   "execution_count": 4,
   "metadata": {},
   "outputs": [
    {
     "name": "stdout",
     "output_type": "stream",
     "text": [
      "Enter a string12@aniruddh.j\n",
      "vowels: 3\n",
      "Consonants: 6\n",
      "Digit 2\n",
      "Special Chararcters: 2\n"
     ]
    }
   ],
   "source": [
    "#1 Accept a string from the user and count no.of vowels,consonants and special characters\n",
    "\n",
    "vowels=0\n",
    "consonant=0\n",
    "specialchar=0\n",
    "digit=0\n",
    "str=input(\"Enter a string\")\n",
    "for i in range(0,len(str)):\n",
    "    x=str[i]\n",
    "    if(x>='a' and x<='z') or (x>='A' and x<='Z'):\n",
    "        x=x.lower()\n",
    "        if(x=='a' or x=='e' or x=='i' or x=='o' or x=='u'):\n",
    "            vowels+=1\n",
    "        else:\n",
    "            consonant+=1\n",
    "    elif (x>='0' and x<='9'):\n",
    "         digit+=1\n",
    "    else:\n",
    "        specialchar+=1\n",
    "print(\"vowels:\",vowels)\n",
    "print(\"Consonants:\",consonant)\n",
    "print(\"Digit\",digit)\n",
    "print(\"Special Chararcters:\",specialchar)"
   ]
  },
  {
   "cell_type": "code",
   "execution_count": 4,
   "metadata": {},
   "outputs": [
    {
     "name": "stdout",
     "output_type": "stream",
     "text": [
      "Enter a stringabbaaccbbaaa\n",
      "2\n"
     ]
    }
   ],
   "source": [
    "#2 count the no.of pairs of a in the given string(\n",
    "str=input(\"Enter a string\")\n",
    "print(str.count('aa'))\n",
    "    "
   ]
  },
  {
   "cell_type": "code",
   "execution_count": 2,
   "metadata": {},
   "outputs": [],
   "source": [
    "# 3\n",
    "\n",
    "s=input(\"string : \")\n",
    "count=0\n",
    "i=0\n",
    "while i<(len(s)-1):\n",
    "    if(s[i]=='('):\n",
    "        count+=1\n",
    "    i+=1\n",
    "print(count)"
   ]
  },
  {
   "cell_type": "code",
   "execution_count": 1,
   "metadata": {},
   "outputs": [
    {
     "name": "stdout",
     "output_type": "stream",
     "text": [
      "Enter starting limit1\n",
      "Enter Ending Limit100\n",
      "1 2 3 4 5 6 7 8 9 11 22 33 44 55 66 77 88 99 "
     ]
    }
   ],
   "source": [
    "#4 Read the input as two limits and Print the output as Palindrome count between the two limits\n",
    "\n",
    "def isPalindrome(n: int) -> bool: \n",
    "  \n",
    "    \n",
    "    rev = 0\n",
    "    i = n \n",
    "    while i > 0: \n",
    "        rev = rev * 10 + i % 10\n",
    "        i //= 10\n",
    "  \n",
    "    \n",
    "    return (n == rev) \n",
    "  \n",
    "\n",
    "def countPal(minn: int, maxx: int) -> None: \n",
    "    for i in range(minn, maxx + 1): \n",
    "        if isPalindrome(i): \n",
    "            print(i, end = \" \") \n",
    "  \n",
    "\n",
    "if __name__ == \"__main__\":\n",
    "    a=int(input(\"Enter starting limit\"))\n",
    "    b=int(input(\"Enter Ending Limit\"))\n",
    "    countPal(a,b) "
   ]
  },
  {
   "cell_type": "code",
   "execution_count": null,
   "metadata": {},
   "outputs": [],
   "source": [
    "#5 Accept a number as an input and check whether the given number is palindrome or not\n",
    "\n",
    "n=int(input(\"enter number\"))\n",
    "s = 0\n",
    "while True:\n",
    "    k = str(n)\n",
    "    if k == k[::-1]:\n",
    "        print(k)\n",
    "        break\n",
    "    else:\n",
    "      m = int(k[::-1])\n",
    "      n += m\n",
    "      s += 1\n",
    "      print(k)"
   ]
  },
  {
   "cell_type": "code",
   "execution_count": 3,
   "metadata": {},
   "outputs": [
    {
     "name": "stdout",
     "output_type": "stream",
     "text": [
      "puboif\n"
     ]
    }
   ],
   "source": [
    "#6 input:orange → output : puboif\n",
    "\n",
    "\n",
    "value = 'orange'\n",
    "var=(chr(ord(value[0])+1))\n",
    "var1=(chr(ord(value[1])+3))\n",
    "var2=(chr(ord(value[2])+1))\n",
    "var3=(chr(ord(value[3])+1))\n",
    "var4=(chr(ord(value[4])+2))\n",
    "var5=(chr(ord(value[5])+1))\n",
    "value=var+var1+var2+var3+var4+var5\n",
    "print(value)"
   ]
  },
  {
   "cell_type": "code",
   "execution_count": null,
   "metadata": {},
   "outputs": [],
   "source": [
    "#7 Accept input as a string and display sum of digits as the output\n",
    "\n",
    "n=input('')\n",
    "sum= 0\n",
    "for x in n:\n",
    "    if x.isdigit() == True:\n",
    "            z = int(x)\n",
    "            sum= sum + z\n",
    "print(sum)"
   ]
  },
  {
   "cell_type": "code",
   "execution_count": null,
   "metadata": {},
   "outputs": [],
   "source": [
    "#8  Write a program to prompt for a score between 0.0 and 1.0. \n",
    "    #If the score is out of range, print an error.\n",
    "\n",
    "score = float(input(\" \"))\n",
    "if score>1.0 or score<0.0 :\n",
    "    print(\"error\")\n",
    "elif score>=0.9 :\n",
    "    print ('A')\n",
    "elif score>=0.8 :\n",
    "    print( 'B')\n",
    "elif score>=0.7 :\n",
    "    print( 'C')\n",
    "elif score>=0.6 :\n",
    "    print( 'D')\n",
    "else :\n",
    "    print( 'F')"
   ]
  },
  {
   "cell_type": "code",
   "execution_count": null,
   "metadata": {},
   "outputs": [],
   "source": [
    "#9   Write a Python program which iterates the integers from 1 to 50.\n",
    "     #For multiples of three print \"Fizz\" instead of the number and for the multiples of five print \"Buzz\".\n",
    "     #For numbers which are multiples of both three and five print \"FizzBuzz\".\n",
    "\n",
    "\n",
    "for fizzbuzz in range(51):\n",
    "    if fizzbuzz % 3 == 0 and fizzbuzz % 5 == 0:\n",
    "        print(\"fizzbuzz\")\n",
    "        continue\n",
    "    elif fizzbuzz % 3 == 0:\n",
    "        print(\"fizz\")\n",
    "        continue\n",
    "    elif fizzbuzz % 5 == 0:\n",
    "        print(\"buzz\")\n",
    "        continue\n",
    "    print(fizzbuzz)"
   ]
  },
  {
   "cell_type": "code",
   "execution_count": 1,
   "metadata": {},
   "outputs": [
    {
     "name": "stdout",
     "output_type": "stream",
     "text": [
      "Input first number: 26\n",
      "Input second number: 15\n",
      "Input third number: 29\n",
      "The median is 26.0\n"
     ]
    }
   ],
   "source": [
    "#10 Write a Python program to find the median of three values\n",
    "\n",
    "a = float(input(\"Input first number: \"))\n",
    "b = float(input(\"Input second number: \"))\n",
    "c = float(input(\"Input third number: \"))\n",
    "if a > b:\n",
    "    if a < c:\n",
    "        median = a\n",
    "    elif b > c:\n",
    "        median = b\n",
    "    else:\n",
    "        median = c\n",
    "else:\n",
    "    if a > c:\n",
    "        median = a\n",
    "    elif b < c:\n",
    "        median = b\n",
    "    else:\n",
    "        median = c\n",
    "\n",
    "print(\"The median is\", median)\n"
   ]
  },
  {
   "cell_type": "code",
   "execution_count": null,
   "metadata": {},
   "outputs": [],
   "source": []
  }
 ],
 "metadata": {
  "kernelspec": {
   "display_name": "Python 3",
   "language": "python",
   "name": "python3"
  },
  "language_info": {
   "codemirror_mode": {
    "name": "ipython",
    "version": 3
   },
   "file_extension": ".py",
   "mimetype": "text/x-python",
   "name": "python",
   "nbconvert_exporter": "python",
   "pygments_lexer": "ipython3",
   "version": "3.8.0"
  }
 },
 "nbformat": 4,
 "nbformat_minor": 4
}
